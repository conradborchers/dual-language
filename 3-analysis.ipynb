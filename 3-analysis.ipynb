{
 "cells": [
  {
   "cell_type": "code",
   "execution_count": null,
   "id": "9b7d4683",
   "metadata": {},
   "outputs": [],
   "source": [
    "import pandas as pd\n",
    "import numpy as np\n",
    "from tqdm import tqdm\n",
    "import ast\n",
    "from collections import Counter\n",
    "import scipy.stats as stats"
   ]
  },
  {
   "cell_type": "markdown",
   "id": "98781c74-7c06-4593-a722-6502d2e2732f",
   "metadata": {},
   "source": [
    "## Data preprocessing and aggregation"
   ]
  },
  {
   "cell_type": "code",
   "execution_count": null,
   "id": "ba24c341",
   "metadata": {},
   "outputs": [],
   "source": [
    "tqdm.pandas()"
   ]
  },
  {
   "cell_type": "code",
   "execution_count": null,
   "id": "a65baccd",
   "metadata": {},
   "outputs": [],
   "source": [
    "df_elsi = pd.read_csv('4-elsi-21-22.csv', skiprows=6, dtype={'Agency ID - NCES Assigned [District] Latest available year': str})\n",
    "df_elsi['nces_id'] = df_elsi['Agency ID - NCES Assigned [District] Latest available year']"
   ]
  },
  {
   "cell_type": "code",
   "execution_count": null,
   "id": "cecc9494",
   "metadata": {},
   "outputs": [],
   "source": [
    "# Filter district types\n",
    "mask = df_elsi['Agency Type [District] 2021-22'].map(lambda s: False if pd.isna(s) else s[0] in ['1', '2', '7'])\n",
    "df_elsi = df_elsi[mask].copy()"
   ]
  },
  {
   "cell_type": "code",
   "execution_count": null,
   "id": "1ff3bae8-b090-43b9-b89a-0e146899410f",
   "metadata": {},
   "outputs": [],
   "source": [
    "# Run dl check for fb posts first\n",
    "df_accounts_3 = pd.read_csv('all-dl-coding-control.csv')"
   ]
  },
  {
   "cell_type": "code",
   "execution_count": null,
   "id": "7b9c35f3",
   "metadata": {},
   "outputs": [],
   "source": [
    "# Robustness check estimation\n",
    "df_elsi['hasFB'] = df_elsi.nces_id.map(lambda s: s in df_accounts_3['nces_id'].values)"
   ]
  },
  {
   "cell_type": "code",
   "execution_count": null,
   "id": "7c1d0290",
   "metadata": {},
   "outputs": [],
   "source": [
    "# Run webscraping first\n",
    "df_web = pd.read_csv('1-scraped-data-final-schools.csv', dtype={'nces_id': str})\n",
    "\n",
    "df_web['nces_id'] = df_web['nces_id'].map(lambda s: s.replace('.0', ''))"
   ]
  },
  {
   "cell_type": "code",
   "execution_count": null,
   "id": "b530663b",
   "metadata": {},
   "outputs": [],
   "source": [
    "df_elsi['hasWEB'] = df_elsi.nces_id.map(lambda s: s in df_web['nces_id'].values)"
   ]
  },
  {
   "cell_type": "code",
   "execution_count": null,
   "id": "d1e85e64",
   "metadata": {},
   "outputs": [],
   "source": [
    "def add_race_ratio(df_elsi, input_col, output_col):\n",
    "    numerator = df_elsi[input_col].map(lambda x: int(x) if isinstance(x, str) and x.isdigit() else pd.NA)\n",
    "    denominator = df_elsi['Total Students All Grades (Excludes AE) [District] 2021-22'].map(lambda x: int(x) if isinstance(x, str) and x.isdigit() else pd.NA)\n",
    "    denominator = denominator.map(lambda x: pd.NA if pd.isna(x) else x if x!=0 else pd.NA)\n",
    "    df_elsi[output_col] = numerator/denominator\n",
    "    df_elsi['n_students'] = df_elsi['Total Students All Grades (Excludes AE) [District] 2021-22']\n",
    "    df_elsi['nces_id'] = df_elsi['Agency ID - NCES Assigned [District] Latest available year']\n",
    "    return df_elsi\n",
    "\n",
    "df_elsi = add_race_ratio(df_elsi, 'White Students [District] 2021-22', 'ratio_white')\n",
    "\n",
    "df_elsi = add_race_ratio(df_elsi, 'American Indian/Alaska Native Students [District] 2021-22', 'ratio_asian')\n",
    "df_elsi = add_race_ratio(df_elsi, 'Hispanic Students [District] 2021-22', 'ratio_hispanic')\n",
    "df_elsi = add_race_ratio(df_elsi, 'Black or African American Students [District] 2021-22', 'ratio_black')\n",
    "df_elsi = add_race_ratio(df_elsi, 'Nat. Hawaiian or Other Pacific Isl. Students [District] 2021-22', 'ratio_pac_is')\n",
    "df_elsi = add_race_ratio(df_elsi, 'Two or More Races Students [District] 2021-22', 'ratio_multirace')"
   ]
  },
  {
   "cell_type": "code",
   "execution_count": null,
   "id": "585a7a2c",
   "metadata": {},
   "outputs": [],
   "source": [
    "# Join poverty and english language index\n",
    "join_this1 = pd.read_csv('crdc_lep_sum.csv', dtype={'leaid': str})[['leaid', 'ratio_lep']]\n",
    "join_this1.rename(columns={'leaid': 'nces_id'}, inplace=True)\n",
    "\n",
    "join_this2 = pd.read_csv('ccd_frpl.csv', dtype={'LEAID': str})[['LEAID', 'ratio_frpl']]\n",
    "join_this2.rename(columns={'LEAID': 'nces_id'}, inplace=True)\n",
    "\n",
    "df_join = df_elsi[['nces_id', 'noFB', 'hasWEB', 'ratio_white', 'ratio_black', 'ratio_hispanic', 'ratio_asian',\n",
    "         'ratio_pac_is', 'ratio_multirace', 'n_students']]\n",
    "\n",
    "df_join = df_join.merge(join_this1, how='left', on='nces_id').merge(join_this2, how='left', on='nces_id')"
   ]
  },
  {
   "cell_type": "code",
   "execution_count": null,
   "id": "3e486e61",
   "metadata": {},
   "outputs": [],
   "source": [
    "df_join['n_students'] = df_join['n_students'].map(lambda x: int(x) if isinstance(x, str) and x.isdigit() else pd.NA)"
   ]
  },
  {
   "cell_type": "markdown",
   "id": "fd551f79-03c5-4fbf-8c87-0f013e237e67",
   "metadata": {},
   "source": [
    "## Descriptive analysis"
   ]
  },
  {
   "cell_type": "code",
   "execution_count": null,
   "id": "2186bd2b",
   "metadata": {},
   "outputs": [],
   "source": [
    "grouped_df = df_join.groupby(['hasFB'])[['ratio_white', 'ratio_black', 'ratio_hispanic', 'ratio_asian',\n",
    "         'ratio_pac_is', 'ratio_multirace', 'n_students']].mean().reset_index()\n",
    "\n",
    "grouped_df"
   ]
  },
  {
   "cell_type": "code",
   "execution_count": null,
   "id": "da171f49",
   "metadata": {},
   "outputs": [],
   "source": [
    "grouped_df = df_join.groupby(['hasFB'])[['ratio_white', 'ratio_black', 'ratio_hispanic', 'ratio_asian',\n",
    "         'ratio_pac_is', 'ratio_multirace', 'n_students', 'ratio_frpl', 'ratio_lep']].mean().reset_index()\n",
    "\n",
    "\n",
    "grouped_df"
   ]
  },
  {
   "cell_type": "code",
   "execution_count": null,
   "id": "052d0962",
   "metadata": {},
   "outputs": [],
   "source": [
    "grouped_df = df_join.groupby(['hasWEB'])[['ratio_white', 'ratio_black', 'ratio_hispanic', 'ratio_asian',\n",
    "         'ratio_pac_is', 'ratio_multirace', 'n_students']].mean().reset_index()\n",
    "\n",
    "grouped_df"
   ]
  },
  {
   "cell_type": "code",
   "execution_count": null,
   "id": "9a659dc6",
   "metadata": {},
   "outputs": [],
   "source": [
    "grouped_df = df_join.groupby(['hasWEB'])[['ratio_white', 'ratio_black', 'ratio_hispanic', 'ratio_asian',\n",
    "         'ratio_pac_is', 'ratio_multirace', 'n_students', 'ratio_frpl', 'ratio_lep']].mean().reset_index()\n",
    "\n",
    "\n",
    "grouped_df"
   ]
  },
  {
   "cell_type": "code",
   "execution_count": null,
   "id": "3d1fc96c",
   "metadata": {},
   "outputs": [],
   "source": [
    "grouped_df = df_join.groupby(['hasFB', 'hasWEB'])[['ratio_white', 'ratio_black', 'ratio_hispanic', 'ratio_asian',\n",
    "         'ratio_pac_is', 'ratio_multirace', 'n_students']].mean().reset_index()\n",
    "\n",
    "\n",
    "grouped_df"
   ]
  },
  {
   "cell_type": "code",
   "execution_count": null,
   "id": "3bdc06c8",
   "metadata": {},
   "outputs": [],
   "source": [
    "df_join.groupby(['hasFB', 'hasWEB']).size()"
   ]
  },
  {
   "cell_type": "code",
   "execution_count": null,
   "id": "8737fe3b",
   "metadata": {},
   "outputs": [],
   "source": [
    "df_join_check = df_join.copy()"
   ]
  },
  {
   "cell_type": "code",
   "execution_count": null,
   "id": "3729c4fb",
   "metadata": {},
   "outputs": [],
   "source": [
    "grouped_df = df_join.groupby(['hasFB', 'hasWEB'])[['ratio_white', 'ratio_black', 'ratio_hispanic', 'ratio_asian',\n",
    "         'ratio_pac_is', 'ratio_multirace', 'n_students', 'ratio_frpl', 'ratio_lep']].mean().reset_index()\n",
    "\n",
    "\n",
    "grouped_df"
   ]
  },
  {
   "cell_type": "code",
   "execution_count": null,
   "id": "1865d5e9",
   "metadata": {},
   "outputs": [],
   "source": [
    "# Overall\n",
    "df_join[['ratio_white', 'ratio_black', 'ratio_hispanic', 'ratio_asian',\n",
    "         'ratio_pac_is', 'ratio_multirace', 'n_students', 'ratio_frpl', 'ratio_lep']].mean()"
   ]
  },
  {
   "cell_type": "code",
   "execution_count": null,
   "id": "e152bbab",
   "metadata": {},
   "outputs": [],
   "source": [
    "numerator = df_elsi['White Students [District] 2021-22'].map(lambda x: int(x) if isinstance(x, str) and x.isdigit() else pd.NA)\n",
    "denominator = df_elsi['Total Students All Grades (Excludes AE) [District] 2021-22'].map(lambda x: int(x) if isinstance(x, str) and x.isdigit() else pd.NA)\n",
    "denominator = denominator.map(lambda x: pd.NA if pd.isna(x) else x if x!=0 else pd.NA)\n",
    "df_elsi['ratio_white'] = numerator/denominator\n",
    "df_elsi['nces_id'] = df_elsi['Agency ID - NCES Assigned [District] Latest available year']"
   ]
  },
  {
   "cell_type": "code",
   "execution_count": null,
   "id": "3c28dd9d",
   "metadata": {},
   "outputs": [],
   "source": [
    "df_elsi.groupby('noFB')['ratio_white'].mean()"
   ]
  },
  {
   "cell_type": "code",
   "execution_count": null,
   "id": "e84954f7",
   "metadata": {},
   "outputs": [],
   "source": [
    "df_elsi.groupby('noWEB')['ratio_white'].mean()"
   ]
  },
  {
   "cell_type": "markdown",
   "id": "59d0aeff-8e5b-4f2c-bebf-6c8d54ac671c",
   "metadata": {},
   "source": [
    "# Statistical testing"
   ]
  },
  {
   "cell_type": "code",
   "execution_count": null,
   "id": "9746a208-20af-4ad3-8ce7-79ca3fb1c8d5",
   "metadata": {},
   "outputs": [],
   "source": [
    "df_matrix = df_accounts_3.merge(df_web, how='outer', on='nces_id').drop_duplicates(subset=['nces_id'])\n",
    "\n",
    "grouped_df = df_matrix.groupby(['dl_fb', 'dl_web']).size().reset_index(name='count')\n",
    "pivot_df = grouped_df.pivot(index='dl_fb', columns='dl_web', values='count')\n",
    "print(pivot_df)\n",
    "\n",
    "# Perform a chi-squared test\n",
    "chi2_stat, p_value, dof, _ = stats.chi2_contingency(pivot_df)\n",
    "\n",
    "print(\"Chi-squared statistic:\", chi2_stat)\n",
    "print(\"P-value:\", p_value)\n",
    "print(\"Degrees of Freedom:\", dof)"
   ]
  }
 ],
 "metadata": {
  "kernelspec": {
   "display_name": "Python 3 (ipykernel)",
   "language": "python",
   "name": "python3"
  },
  "language_info": {
   "codemirror_mode": {
    "name": "ipython",
    "version": 3
   },
   "file_extension": ".py",
   "mimetype": "text/x-python",
   "name": "python",
   "nbconvert_exporter": "python",
   "pygments_lexer": "ipython3",
   "version": "3.10.14"
  }
 },
 "nbformat": 4,
 "nbformat_minor": 5
}
